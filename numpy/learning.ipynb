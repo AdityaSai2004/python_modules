{
 "cells": [
  {
   "cell_type": "markdown",
   "metadata": {},
   "source": [
    "<h1 align=\"center\">Numpy lessons</h1>\n"
   ]
  },
  {
   "cell_type": "code",
   "execution_count": 1,
   "metadata": {},
   "outputs": [],
   "source": [
    "import numpy as np"
   ]
  },
  {
   "cell_type": "markdown",
   "metadata": {},
   "source": [
    "## Day 1"
   ]
  },
  {
   "cell_type": "code",
   "execution_count": 27,
   "metadata": {},
   "outputs": [
    {
     "name": "stdout",
     "output_type": "stream",
     "text": [
      "[1 2 3]\n",
      "[[1 2 3 4]\n",
      " [5 6 7 8]]\n",
      "[[1 2 3]\n",
      " [4 5 6]]\n"
     ]
    }
   ],
   "source": [
    "a=np.array([1,2,3])\n",
    "print(a)\n",
    "b=np.array([[1,2,3,4],[5,6,7,8]]) \n",
    "c=np.array([(1,2,3),(4,5,6)]) #both () and [] can be used\n",
    "print(b)\n",
    "print(c)"
   ]
  },
  {
   "cell_type": "markdown",
   "metadata": {},
   "source": [
    "- a.ndim = get dimensions\n",
    "- a.shape = get shape\n",
    "- a.dtype = get datatype\n",
    "- a.itemsize = size of the data type \n",
    "- a.nbytes = array size\n",
    "- a.size = number of elements"
   ]
  },
  {
   "cell_type": "markdown",
   "metadata": {},
   "source": [
    "### Creating new arrays"
   ]
  },
  {
   "cell_type": "code",
   "execution_count": 30,
   "metadata": {},
   "outputs": [],
   "source": [
    "#(3,4) is for rows and columns here\n",
    "\n",
    "a=np.zeros((3, 4))\n",
    "b=np.ones((3,4))\n",
    "c=np.empty((3,4)) # creates a random array with garbage values\n",
    "\n",
    "# to create a series array \n",
    "d=np.arange(10, 30, 5) #creates a 1d array from 10 to 30 with count gap of 5 (start,stop,gap)\n",
    "e=np.linspace(0,2,9) #creates a 1d array of 9 random elements from 0 to 2 (start,stop,number_of_elements)"
   ]
  },
  {
   "cell_type": "code",
   "execution_count": 36,
   "metadata": {},
   "outputs": [],
   "source": [
    "#creating a array from a function definition\n",
    "def f(x,y):\n",
    "    return 10 * x + y"
   ]
  },
  {
   "cell_type": "code",
   "execution_count": 37,
   "metadata": {},
   "outputs": [],
   "source": [
    "b = np.fromfunction(f, (5, 4), dtype=int)"
   ]
  },
  {
   "cell_type": "markdown",
   "metadata": {},
   "source": [
    "### Basic Operations"
   ]
  },
  {
   "cell_type": "code",
   "execution_count": 35,
   "metadata": {},
   "outputs": [
    {
     "name": "stdout",
     "output_type": "stream",
     "text": [
      "[[ 0. 10. 20. 30.]]\n",
      "[[  0. 100. 400. 900.]]\n",
      "[[ 1. 11. 21. 31.]]\n"
     ]
    }
   ],
   "source": [
    "a=np.arange(1,40,10)\n",
    "b=np.ones((1,4))\n",
    "c=a-b #vectorized notation ie. c[i]=b[i]-a[i]\n",
    "print(c)\n",
    "d=c**2\n",
    "e=a*b # * stands for element wise multiplication\n",
    "print(e)\n",
    "f=a @ b # @ and a.dot(b) stands for matrix multiplication"
   ]
  },
  {
   "cell_type": "markdown",
   "metadata": {},
   "source": [
    "### Accessing/Changing specific elements, rows, columns, etc\n"
   ]
  },
  {
   "cell_type": "code",
   "execution_count": 41,
   "metadata": {},
   "outputs": [
    {
     "data": {
      "text/plain": [
       "array([[5., 7., 0., 5.],\n",
       "       [4., 8., 4., 3.],\n",
       "       [9., 1., 9., 5.]])"
      ]
     },
     "execution_count": 41,
     "metadata": {},
     "output_type": "execute_result"
    }
   ],
   "source": [
    "#Slicing\n",
    "a[::-1] #reverse the array\n",
    "a[:,::-1] #reverse the columns\n",
    "a[::-1,:] #reverse the rows\n",
    "a[::-1,::-1] #reverse the rows and columns"
   ]
  },
  {
   "cell_type": "code",
   "execution_count": 40,
   "metadata": {},
   "outputs": [
    {
     "data": {
      "text/plain": [
       "(3, 4)"
      ]
     },
     "execution_count": 40,
     "metadata": {},
     "output_type": "execute_result"
    }
   ],
   "source": [
    "#Shape manipulation\n",
    "rg = np.random.default_rng(1)\n",
    "a = np.floor(10 * rg.random((3, 4)))\n",
    "a.shape"
   ]
  },
  {
   "cell_type": "code",
   "execution_count": 42,
   "metadata": {},
   "outputs": [
    {
     "data": {
      "text/plain": [
       "array([[5., 3., 5.],\n",
       "       [9., 4., 0.],\n",
       "       [1., 8., 7.],\n",
       "       [9., 4., 5.]])"
      ]
     },
     "execution_count": 42,
     "metadata": {},
     "output_type": "execute_result"
    }
   ],
   "source": [
    "a.ravel() #flattens the array\n",
    "a.reshape(2,6) #reshapes the array\n",
    "a.T #transpose the array"
   ]
  }
 ],
 "metadata": {
  "kernelspec": {
   "display_name": "Python 3.9.9 64-bit",
   "language": "python",
   "name": "python3"
  },
  "language_info": {
   "codemirror_mode": {
    "name": "ipython",
    "version": 3
   },
   "file_extension": ".py",
   "mimetype": "text/x-python",
   "name": "python",
   "nbconvert_exporter": "python",
   "pygments_lexer": "ipython3",
   "version": "3.9.9"
  },
  "orig_nbformat": 4,
  "vscode": {
   "interpreter": {
    "hash": "2a13f60bf2c847417be13c0caf2d7d82662a57655a64625bee803f08fda06a2c"
   }
  }
 },
 "nbformat": 4,
 "nbformat_minor": 2
}
